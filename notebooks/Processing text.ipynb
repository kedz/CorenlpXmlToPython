{
 "metadata": {
  "name": ""
 },
 "nbformat": 3,
 "nbformat_minor": 0,
 "worksheets": [
  {
   "cells": [
    {
     "cell_type": "code",
     "collapsed": false,
     "input": [
      "import corenlp_xml as cnlp\n",
      "\n",
      "text = 'Hurricane Sandy was the deadliest and most destructive hurricane of the 2012 Atlantic hurricane season, as well as the second-costliest hurricane in United States history. \\\n",
      "Classified as the eighteenth named storm, tenth hurricane and second major hurricane of the year, Sandy was a Category 3 storm at its peak intensity when it made landfall in Cuba.'\n",
      "\n",
      "fname = '/tmp/temp.txt'\n",
      "f = open(fname, 'w')\n",
      "f.write(text)\n",
      "f.flush()\n",
      "f.close()\n",
      "\n",
      "cnlp.run_pipeline(['tokenize','ssplit','pos','lemma','ner','parse','dcoref'],\n",
      "                 [fname],\n",
      "                 '/tmp',\n",
      "                 mem='2000m',\n",
      "                 threads=1,\n",
      "                 corenlp_dir='/home/chris/tools/nlp/stanford-corenlp-full-2013-06-20')"
     ],
     "language": "python",
     "metadata": {},
     "outputs": [],
     "prompt_number": 1
    },
    {
     "cell_type": "code",
     "collapsed": false,
     "input": [
      "doc = cnlp.Document('/tmp/temp.txt.xml')\n",
      "for s in doc:\n",
      "    for t in s:\n",
      "        print (t.pos, t.lem),"
     ],
     "language": "python",
     "metadata": {},
     "outputs": [
      {
       "output_type": "stream",
       "stream": "stdout",
       "text": [
        "('NNP', 'Hurricane') ('NNP', 'Sandy') ('VBD', 'be') ('DT', 'the') ('JJS', 'deadliest') ('CC', 'and') ('RBS', 'most') ('JJ', 'destructive') ('NN', 'hurricane') ('IN', 'of') ('DT', 'the') ('CD', '2012') ('NNP', 'Atlantic') ('NN', 'hurricane') ('NN', 'season') (',', ',') ('RB', 'as') ('RB', 'well') ('IN', 'as') ('DT', 'the') ('JJS', 'second-costliest') ('NN', 'hurricane') ('IN', 'in') ('NNP', 'United') ('NNPS', 'States') ('NN', 'history') ('.', '.') ('VBN', 'classify') ('IN', 'as') ('DT', 'the') ('NN', 'eighteenth') ('VBN', 'name') ('NN', 'storm') (',', ',') ('NN', 'tenth') ('NN', 'hurricane') ('CC', 'and') ('JJ', 'second') ('JJ', 'major') ('NN', 'hurricane') ('IN', 'of') ('DT', 'the') ('NN', 'year') (',', ',') ('NNP', 'Sandy') ('VBD', 'be') ('DT', 'a') ('NN', 'category') ('CD', '3') ('NN', 'storm') ('IN', 'at') ('PRP$', 'its') ('NN', 'peak') ('NN', 'intensity') ('WRB', 'when') ('PRP', 'it') ('VBD', 'make') ('NN', 'landfall') ('IN', 'in') ('NNP', 'Cuba') ('.', '.')\n"
       ]
      }
     ],
     "prompt_number": 2
    },
    {
     "cell_type": "code",
     "collapsed": false,
     "input": [],
     "language": "python",
     "metadata": {},
     "outputs": []
    }
   ],
   "metadata": {}
  }
 ]
}